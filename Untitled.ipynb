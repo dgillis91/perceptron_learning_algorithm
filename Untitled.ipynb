{
 "cells": [
  {
   "cell_type": "code",
   "execution_count": 9,
   "metadata": {},
   "outputs": [
    {
     "data": {
      "text/plain": [
       "[['1.5', '2.3', '-1'],\n",
       " ['4.7', '6.1', '1'],\n",
       " ['3.4', '7.9', '-1'],\n",
       " ['5.2', '5.5', '1']]"
      ]
     },
     "execution_count": 9,
     "metadata": {},
     "output_type": "execute_result"
    }
   ],
   "source": [
    "data = []\n",
    "with open('untitled.txt', 'r') as f:\n",
    "    d = f.read().split('\\n')\n",
    "    \n",
    "for i in range(0, len(d), 3):\n",
    "    max_index = len(d) - 1\n",
    "    start_index = i\n",
    "    stop_index = i + 3\n",
    "    data.append(d[start_index:stop_index])\n",
    "    \n",
    "data"
   ]
  },
  {
   "cell_type": "code",
   "execution_count": 3,
   "metadata": {},
   "outputs": [
    {
     "data": {
      "text/plain": [
       "['1.5', '2.3', '-1', '4.7', '6.1', '1', '3.4', '7.9', '-1', '5.2', '5.5', '1']"
      ]
     },
     "execution_count": 3,
     "metadata": {},
     "output_type": "execute_result"
    }
   ],
   "source": [
    "d"
   ]
  },
  {
   "cell_type": "code",
   "execution_count": null,
   "metadata": {},
   "outputs": [],
   "source": []
  }
 ],
 "metadata": {
  "kernelspec": {
   "display_name": "Python 3",
   "language": "python",
   "name": "python3"
  },
  "language_info": {
   "codemirror_mode": {
    "name": "ipython",
    "version": 3
   },
   "file_extension": ".py",
   "mimetype": "text/x-python",
   "name": "python",
   "nbconvert_exporter": "python",
   "pygments_lexer": "ipython3",
   "version": "3.7.3"
  }
 },
 "nbformat": 4,
 "nbformat_minor": 2
}
